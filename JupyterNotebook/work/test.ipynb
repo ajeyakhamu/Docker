{
 "cells": [
  {
   "cell_type": "code",
   "execution_count": 3,
   "id": "1220ad0c-2b4f-4c4e-b45d-7171d9dd194f",
   "metadata": {},
   "outputs": [],
   "source": [
    "def addnumbers(a, b):\n",
    "    return a + b"
   ]
  },
  {
   "cell_type": "code",
   "execution_count": 4,
   "id": "c3adc830-8035-442c-9385-f88342eb047b",
   "metadata": {},
   "outputs": [
    {
     "name": "stdout",
     "output_type": "stream",
     "text": [
      "11\n"
     ]
    }
   ],
   "source": [
    "c = addnumbers(5, 6)\n",
    "print(c)"
   ]
  },
  {
   "cell_type": "code",
   "execution_count": null,
   "id": "c0bb6d72-ab6d-4ba7-8ada-1b20283331d3",
   "metadata": {},
   "outputs": [],
   "source": []
  }
 ],
 "metadata": {
  "kernelspec": {
   "display_name": "Python 3 (ipykernel)",
   "language": "python",
   "name": "python3"
  },
  "language_info": {
   "codemirror_mode": {
    "name": "ipython",
    "version": 3
   },
   "file_extension": ".py",
   "mimetype": "text/x-python",
   "name": "python",
   "nbconvert_exporter": "python",
   "pygments_lexer": "ipython3",
   "version": "3.9.13"
  }
 },
 "nbformat": 4,
 "nbformat_minor": 5
}
